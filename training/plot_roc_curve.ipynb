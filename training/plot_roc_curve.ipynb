{
 "cells": [
  {
   "cell_type": "code",
   "execution_count": 1,
   "metadata": {},
   "outputs": [],
   "source": [
    "import os\n",
    "\n",
    "import matplotlib.pyplot as plt\n",
    "import torch\n",
    "import torch.backends.cudnn as cudnn\n",
    "import torch.nn as nn\n",
    "import torchnet\n",
    "import torchvision.models as models\n",
    "import torchvision.transforms as transforms\n",
    "from munch import Munch\n",
    "from sklearn.metrics import roc_curve\n",
    "from sklearn.metrics import roc_auc_score\n",
    "from torch.autograd import Variable\n",
    "from tqdm import tqdm_notebook as tqdm\n",
    "\n",
    "import dataset"
   ]
  },
  {
   "cell_type": "code",
   "execution_count": 2,
   "metadata": {},
   "outputs": [],
   "source": [
    "# pretrained alexnet\n",
    "config_path = 'pretrained/alexnet/config.yml'\n",
    "epoch = 45\n",
    "\n",
    "# pretrained vgg16\n",
    "#config_path = 'pretrained/vgg16/config.yml'\n",
    "#epoch = 12\n",
    "\n",
    "# pretrained inception_v3\n",
    "#config_path = 'pretrained/inception_v3/config.yml'\n",
    "#epoch = 7\n",
    "\n",
    "# pretrained resnet152\n",
    "#config_path = 'pretrained/resnet152/config.yml'\n",
    "#epoch = 5"
   ]
  },
  {
   "cell_type": "code",
   "execution_count": 3,
   "metadata": {},
   "outputs": [],
   "source": [
    "#config_path = 'logs/your_log_dir/config.yml'\n",
    "#epoch = your_best_epoch"
   ]
  },
  {
   "cell_type": "code",
   "execution_count": 4,
   "metadata": {},
   "outputs": [],
   "source": [
    "with open(config_path, 'r') as f:\n",
    "    cfg = Munch.fromYAML(f)"
   ]
  },
  {
   "cell_type": "code",
   "execution_count": 5,
   "metadata": {},
   "outputs": [
    {
     "name": "stdout",
     "output_type": "stream",
     "text": [
      "=> creating model 'alexnet'\n"
     ]
    }
   ],
   "source": [
    "model_names = sorted(name for name in models.__dict__\n",
    "    if name.islower() and not name.startswith(\"__\")\n",
    "    and callable(models.__dict__[name]))\n",
    "\n",
    "print(\"=> creating model '{}'\".format(cfg.arch.model))\n",
    "model = models.__dict__[cfg.arch.model](pretrained=cfg.arch.pretrained)\n",
    "\n",
    "if cfg.arch.model.startswith('alexnet') or cfg.arch.model.startswith('vgg'):\n",
    "    model.classifier._modules['6'] = nn.Linear(4096, cfg.arch.num_classes)\n",
    "elif cfg.arch.model == 'inception_v3':\n",
    "    model.aux_logits = False\n",
    "    model.fc = nn.Linear(2048, cfg.arch.num_classes)\n",
    "elif cfg.arch.model == 'resnet152':\n",
    "    model.fc = nn.Linear(2048, cfg.arch.num_classes)\n",
    "else:\n",
    "    raise Exception\n",
    "\n",
    "if cfg.arch.model.startswith('alexnet') or cfg.arch.model.startswith('vgg'):\n",
    "    model.features = torch.nn.DataParallel(model.features)\n",
    "    model.cuda()\n",
    "else:\n",
    "    model = torch.nn.DataParallel(model).cuda()\n",
    "cudnn.benchmark = True"
   ]
  },
  {
   "cell_type": "code",
   "execution_count": 6,
   "metadata": {},
   "outputs": [
    {
     "name": "stdout",
     "output_type": "stream",
     "text": [
      "=> loading checkpoint 'pretrained/alexnet/checkpoint_00000045.pth.tar'\n",
      "=> loaded checkpoint 'pretrained/alexnet/checkpoint_00000045.pth.tar' (epoch 45)\n"
     ]
    }
   ],
   "source": [
    "resume_path = cfg.training.resume.replace(cfg.training.resume[-16:-8], '{:08}'.format(epoch))\n",
    "if os.path.isfile(resume_path):\n",
    "    print(\"=> loading checkpoint '{}'\".format(resume_path))\n",
    "    checkpoint = torch.load(resume_path)\n",
    "    start_epoch = checkpoint['epoch']\n",
    "    model.load_state_dict(checkpoint['state_dict'])\n",
    "    model.eval()\n",
    "    print(\"=> loaded checkpoint '{}' (epoch {})\".format(resume_path, checkpoint['epoch']))\n",
    "else:\n",
    "    print(\"=> no checkpoint found at '{}'\".format(resume_path))\n",
    "    print('')\n",
    "    raise Exception"
   ]
  },
  {
   "cell_type": "code",
   "execution_count": 7,
   "metadata": {},
   "outputs": [],
   "source": [
    "normalize = transforms.Normalize(mean=[0.485, 0.456, 0.406], std=[0.229, 0.224, 0.225])\n",
    "val_transforms = []\n",
    "if cfg.arch.model == 'inception_v3':\n",
    "    val_transforms.append(transforms.Scale(299))\n",
    "val_dataset = dataset.DDSM(cfg.data.root, 'val', transforms.Compose(val_transforms + [\n",
    "    transforms.ToTensor(),\n",
    "    normalize,\n",
    "]))\n",
    "val_loader = torch.utils.data.DataLoader(\n",
    "    val_dataset, batch_size=cfg.data.batch_size, shuffle=False,\n",
    "    num_workers=cfg.data.workers, pin_memory=True)"
   ]
  },
  {
   "cell_type": "code",
   "execution_count": 8,
   "metadata": {},
   "outputs": [
    {
     "data": {
      "application/vnd.jupyter.widget-view+json": {
       "model_id": "fcfde8a16a2d4b8ca7b9a5a92ca8f6b5",
       "version_major": 2,
       "version_minor": 0
      },
      "text/plain": [
       "HBox(children=(IntProgress(value=0, max=1395), HTML(value=u'')))"
      ]
     },
     "metadata": {},
     "output_type": "display_data"
    },
    {
     "name": "stdout",
     "output_type": "stream",
     "text": [
      "\n",
      "class 0\n",
      "torchnet.meter.AUCMeter: 0.863248339575\n",
      "sklearn.metrics.roc_auc_score: 0.86324838266\n",
      "\n",
      "class 1\n",
      "torchnet.meter.AUCMeter: 0.863248425744\n",
      "sklearn.metrics.roc_auc_score: 0.863248436516\n",
      "\n"
     ]
    }
   ],
   "source": [
    "targets = [[] for _ in xrange(cfg.arch.num_classes)]\n",
    "probs = [[] for _ in xrange(cfg.arch.num_classes)]\n",
    "aucs = [torchnet.meter.AUCMeter() for _ in xrange(cfg.arch.num_classes)]\n",
    "\n",
    "for input, target in tqdm(val_loader):\n",
    "    input_var = Variable(input, volatile=True)\n",
    "    output = model(input_var)\n",
    "    prob = nn.Softmax()(output)\n",
    "    for i in xrange(cfg.arch.num_classes):\n",
    "        aucs[i].add(prob[:, i].data, target == i)\n",
    "        targets[i].extend(target.numpy() == i)\n",
    "        probs[i].extend(prob[:, i].data.cpu().numpy())\n",
    "\n",
    "for i in xrange(cfg.arch.num_classes):\n",
    "    print('class {}'.format(i))\n",
    "    print('torchnet.meter.AUCMeter: {}'.format(aucs[i].value()[0]))\n",
    "    print('sklearn.metrics.roc_auc_score: {}'.format(roc_auc_score(targets[i], probs[i])))\n",
    "    print('')"
   ]
  },
  {
   "cell_type": "code",
   "execution_count": 9,
   "metadata": {},
   "outputs": [],
   "source": [
    "def plot_roc_curve(y_true, y_score):\n",
    "    plt.figure(figsize=(8, 8))\n",
    "    plt.xlim([0.0, 1.0])\n",
    "    plt.ylim([0.0, 1.0])\n",
    "    plt.gca().set_aspect('equal')\n",
    "    plt.xlabel('False positive rate')\n",
    "    plt.ylabel('True positive rate')\n",
    "    plt.title('ROC Curve')\n",
    "    fpr, tpr, _ = roc_curve(y_true, y_score)\n",
    "    plt.plot(fpr, tpr, color='black')\n",
    "    plt.show()"
   ]
  },
  {
   "cell_type": "code",
   "execution_count": 10,
   "metadata": {},
   "outputs": [
    {
     "name": "stdout",
     "output_type": "stream",
     "text": [
      "class 0\n"
     ]
    },
    {
     "data": {
      "image/png": "[encoded data removed]",
      "text/plain": [
       "<Figure size 576x576 with 1 Axes>"
      ]
     },
     "metadata": {},
     "output_type": "display_data"
    },
    {
     "name": "stdout",
     "output_type": "stream",
     "text": [
      "class 1\n"
     ]
    },
    {
     "data": {
      "image/png": "[encoded data removed]",
      "text/plain": [
       "<Figure size 576x576 with 1 Axes>"
      ]
     },
     "metadata": {},
     "output_type": "display_data"
    }
   ],
   "source": [
    "for i in xrange(cfg.arch.num_classes):\n",
    "    print('class {}'.format(i))\n",
    "    plot_roc_curve(targets[i], probs[i])"
   ]
  },
  {
   "cell_type": "code",
   "execution_count": null,
   "metadata": {},
   "outputs": [],
   "source": []
  }
 ],
 "metadata": {
  "kernelspec": {
   "display_name": "Python 2",
   "language": "python",
   "name": "python2"
  },
  "language_info": {
   "codemirror_mode": {
    "name": "ipython",
    "version": 2
   },
   "file_extension": ".py",
   "mimetype": "text/x-python",
   "name": "python",
   "nbconvert_exporter": "python",
   "pygments_lexer": "ipython2",
   "version": "2.7.14"
  }
 },
 "nbformat": 4,
 "nbformat_minor": 2
}
